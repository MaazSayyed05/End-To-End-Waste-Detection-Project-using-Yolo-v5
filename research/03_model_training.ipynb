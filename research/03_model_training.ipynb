{
 "cells": [
  {
   "cell_type": "code",
   "execution_count": 1,
   "metadata": {},
   "outputs": [],
   "source": [
    "import os"
   ]
  },
  {
   "cell_type": "code",
   "execution_count": 2,
   "metadata": {},
   "outputs": [
    {
     "data": {
      "text/plain": [
       "'d:\\\\PW_DS\\\\YOLO\\\\End-To-End-Waste-Detection-Project-using-Yolo-v5\\\\research'"
      ]
     },
     "execution_count": 2,
     "metadata": {},
     "output_type": "execute_result"
    }
   ],
   "source": [
    "pwd"
   ]
  },
  {
   "cell_type": "code",
   "execution_count": 3,
   "metadata": {},
   "outputs": [],
   "source": [
    "os.chdir('..')"
   ]
  },
  {
   "cell_type": "code",
   "execution_count": 4,
   "metadata": {},
   "outputs": [
    {
     "data": {
      "text/plain": [
       "'d:\\\\PW_DS\\\\YOLO\\\\End-To-End-Waste-Detection-Project-using-Yolo-v5'"
      ]
     },
     "execution_count": 4,
     "metadata": {},
     "output_type": "execute_result"
    }
   ],
   "source": [
    "pwd"
   ]
  },
  {
   "cell_type": "code",
   "execution_count": null,
   "metadata": {},
   "outputs": [],
   "source": []
  },
  {
   "cell_type": "markdown",
   "metadata": {},
   "source": [
    "## Entity"
   ]
  },
  {
   "cell_type": "code",
   "execution_count": 5,
   "metadata": {},
   "outputs": [],
   "source": [
    "from dataclasses import dataclass\n",
    "from pathlib import Path"
   ]
  },
  {
   "cell_type": "code",
   "execution_count": 6,
   "metadata": {},
   "outputs": [],
   "source": [
    "@dataclass(frozen=True)\n",
    "class ModelTrainingConfig:\n",
    "    root_dir: Path\n",
    "    yolov5_root: Path\n",
    "    yolov5_models: Path\n",
    "    custom_yolov5: Path\n",
    "    train_path: Path\n",
    "    yolov5_runs: Path\n",
    "    history: Path\n",
    "    git_URL: str\n",
    "    IMAGE_SIZE: int\n",
    "    BATCH_SIZE: int\n",
    "    EPOCHS: int\n",
    "    DATA: Path\n",
    "    WEIGHTS: str\n",
    "    NAME: str\n"
   ]
  },
  {
   "cell_type": "code",
   "execution_count": null,
   "metadata": {},
   "outputs": [],
   "source": []
  },
  {
   "cell_type": "markdown",
   "metadata": {},
   "source": [
    "## Config Manager"
   ]
  },
  {
   "cell_type": "code",
   "execution_count": 7,
   "metadata": {},
   "outputs": [],
   "source": [
    "from waste_detection.utils.common import  read_yaml , create_directories\n",
    "from waste_detection.constants import CONFIG_FILE_PATH, PARAMS_FILE_PATH"
   ]
  },
  {
   "cell_type": "code",
   "execution_count": 8,
   "metadata": {},
   "outputs": [],
   "source": [
    "class ConfigManager:\n",
    "    def __init__(\n",
    "        self,\n",
    "        config_file_path = CONFIG_FILE_PATH,\n",
    "        params_file_path = PARAMS_FILE_PATH):\n",
    "\n",
    "        self.config = read_yaml(config_file_path)\n",
    "        self.params = read_yaml(params_file_path)\n",
    "\n",
    "        create_directories([self.config.artifacts_root])\n",
    "\n",
    "\n",
    "    \n",
    "    def get_model_training_config(self) -> ModelTrainingConfig:\n",
    "        config = self.config.model_training\n",
    "        params = self.params.train\n",
    "\n",
    "        create_directories([config.root_dir])\n",
    "        create_directories([config.history])\n",
    "\n",
    "        model_training_config = ModelTrainingConfig(\n",
    "            root_dir = Path(config.root_dir),\n",
    "            yolov5_root = Path(config.yolov5_root),\n",
    "            yolov5_models = Path(config.yolov5_models),\n",
    "            custom_yolov5 = Path(config.custom_yolov5),\n",
    "            train_path = Path(config.train_path),\n",
    "            yolov5_runs = Path(config.yolov5_runs),\n",
    "            history = Path(config.history),\n",
    "            git_URL = config.git_URL,\n",
    "            IMAGE_SIZE = params.IMAGE_SIZE,\n",
    "            BATCH_SIZE = params.BATCH_SIZE,\n",
    "            EPOCHS = params.EPOCHS,\n",
    "            DATA = Path(params.DATA),\n",
    "            WEIGHTS = params.WEIGHTS,\n",
    "            NAME = params.NAME\n",
    "        )\n",
    "\n",
    "        return model_training_config"
   ]
  },
  {
   "cell_type": "code",
   "execution_count": null,
   "metadata": {},
   "outputs": [],
   "source": []
  },
  {
   "cell_type": "markdown",
   "metadata": {},
   "source": [
    "## Components"
   ]
  },
  {
   "cell_type": "code",
   "execution_count": 9,
   "metadata": {},
   "outputs": [],
   "source": [
    "import os,sys\n",
    "from pathlib import Path\n",
    "from waste_detection.utils.common import  read_yaml, read_modify_write_yaml\n",
    "\n",
    "import torch\n",
    "\n",
    "from waste_detection.logger import  logging\n",
    "from waste_detection.exception import CustomException\n",
    "\n",
    "import subprocess\n",
    "\n",
    "import yaml\n",
    "\n",
    "from  datetime import datetime"
   ]
  },
  {
   "cell_type": "code",
   "execution_count": 10,
   "metadata": {},
   "outputs": [],
   "source": [
    "#   root_dir: artifacts/model_training\n",
    "#   yolov5_models: artifacts/model_training/yolov5/models\n",
    "#   custom_yolov5: artifacts/model_training/yolov5/models/custom_yolov5s.yaml\n",
    "#   train_path: artifacts/model_training/yolov5/train.py\n",
    "#   yolov5_runs: artifacts/model_training/yolov5/runs\n",
    "#   history: artifacts/model_training\n",
    "#   git_URL: https://github.com/ultralytics/yolov5\n",
    "  \n",
    "\n",
    "#     IMAGE_SIZE: 640\n",
    "#   BATCH_SIZE: 5\n",
    "#   EPOCHS: 2\n",
    "#   DATA: artifacts\\data_ingestion\\features\\data.yaml\n",
    "#   WEIGHTS: yolov5s.pt\n",
    "#   NAME: yolov5s_results\n"
   ]
  },
  {
   "cell_type": "code",
   "execution_count": 11,
   "metadata": {},
   "outputs": [
    {
     "data": {
      "text/plain": [
       "WindowsPath('artifacts/data_ingestion\\x0ceatures/data.yaml')"
      ]
     },
     "execution_count": 11,
     "metadata": {},
     "output_type": "execute_result"
    }
   ],
   "source": [
    "from pathlib import Path\n",
    "Path('artifacts\\data_ingestion\\features\\data.yaml')"
   ]
  },
  {
   "cell_type": "markdown",
   "metadata": {},
   "source": [
    "## change git repo of yolov5 to root dir. then check if it works or not"
   ]
  },
  {
   "cell_type": "code",
   "execution_count": 36,
   "metadata": {},
   "outputs": [],
   "source": [
    "import os\n",
    "class ModelTraining:\n",
    "    def __init__(\n",
    "        self,\n",
    "        config: ModelTrainingConfig):\n",
    "        self.config = config\n",
    "\n",
    "    def train(self):\n",
    "        try:\n",
    "            # Specify the URL of the GitHub repository\n",
    "            # repo_url = \"https://github.com/username/repo.git\"\n",
    "\n",
    "            # Specify the directory where you want to clone the repository\n",
    "            root = os.getcwd()\n",
    "            clone_dir = os.path.join(root,self.config.yolov5_root)\n",
    "\n",
    "            # Create the command to clone the repository\n",
    "            # command = f\"git clone {self.config.git_URL}\"\n",
    "\n",
    "            # Execute the command using os.system()\n",
    "            # os.system(command)\n",
    "                \n",
    "        \n",
    "        ## 2. Change data.yml file and save custom data.yml file in \n",
    "            yolov5_pt = self.config.WEIGHTS.split('.')[0] + '.yaml'\n",
    "            yolov5_pt_path = os.path.join(self.config.yolov5_models, yolov5_pt)\n",
    "            print(yolov5_pt, yolov5_pt_path)\n",
    "\n",
    "            data = read_yaml(Path(self.config.DATA))\n",
    "            data_pt = read_yaml(Path(yolov5_pt_path))\n",
    "\n",
    "            data_pt.nc = data.nc\n",
    "\n",
    "            with open(self.config.custom_yolov5, 'w') as f:\n",
    "                yaml.dump(data_pt, f)\n",
    "\n",
    "            print(data_pt, data_pt.nc)\n",
    "            read_modify_write_yaml(yolov5_pt_path ,self.config.custom_yolov5, {'nc': data.nc})\n",
    "\n",
    "            ## 3. Train the model\n",
    "            # os.system(f'python {self.config.train_path} --img {self.config.IMAGE_SIZE} --batch {self.config.BATCH_SIZE} --epochs {self.config.EPOCHS} --data {os.path.abspath(self.config.DATA)} --weights {self.config.WEIGHTS} --name {self.config.NAME} --cache')\n",
    "            \n",
    "            command = f'python {self.config.train_path} --img {self.config.IMAGE_SIZE} --batch {self.config.BATCH_SIZE} --epochs {self.config.EPOCHS} --data {os.path.abspath(self.config.DATA)} --weights {self.config.WEIGHTS} --name {self.config.NAME} --cache'\n",
    "            result = subprocess.run(command, shell=True, stdout=subprocess.PIPE, stderr=subprocess.PIPE, text=True)\n",
    "            print(result)\n",
    "            \n",
    "            crt_time = 'runs_' + datetime.now().strftime('%d_%m_%Y_%H_%M_%S') + '/'\n",
    "            runs_path = os.path.join(self.config.history, crt_time)\n",
    "\n",
    "            yolov5_runs = os.path.join(self.config.yolov5_models,'runs')\n",
    "\n",
    "            # print(yolov5_runs)      \n",
    "            \n",
    "            create_directories([runs_path])\n",
    "\n",
    "            # best_pt = os.path.join(yolov5_runs, 'train/yolov5s_results/weights/best.pt')          \n",
    "\n",
    "            os.system(f'cp {yolov5_runs} {runs_path}')\n",
    "\n",
    "\n",
    "            \n",
    "    \n",
    "        except Exception as e:\n",
    "            raise CustomException(e,sys)\n",
    "\n"
   ]
  },
  {
   "cell_type": "code",
   "execution_count": 13,
   "metadata": {},
   "outputs": [],
   "source": [
    "# class ModelTraining:\n",
    "#     def __init__(\n",
    "#         self,\n",
    "#         config: ModelTrainingConfig):\n",
    "#         self.config = config\n",
    "    \n",
    "\n",
    "#     def train(self):\n",
    "\n",
    "#         try:\n",
    "#             # 1. Clone git repo to root dir.\n",
    "#             # command = f'git clone {self.config.git_URL}'\n",
    "#             # result = subprocess.run(command, shell=True, stdout=subprocess.PIPE, stderr=subprocess.PIPE, text=True)\n",
    "    \n",
    "        \n",
    "#             # 2. read yaml file then create a new yaml file of custom model\n",
    "            # yolov5_pt = self.config.WEIGHTS.split('.')[0] + '.yaml'\n",
    "            # yolov5_pt_path = os.path.join(self.config.yolov5_models, yolov5_pt)\n",
    "            # print(yolov5_pt, yolov5_pt_path)\n",
    "\n",
    "            # data = read_yaml(Path(self.config.DATA))\n",
    "            # data_pt = read_yaml(Path(yolov5_pt_path))\n",
    "\n",
    "            # data_pt.nc = data.nc\n",
    "\n",
    "            # with open(self.config.custom_yolov5, 'w') as f:\n",
    "            #     yaml.dump(data_pt, f)\n",
    "\n",
    "#             # print(data_pt, data_pt.nc)\n",
    "#             # read_modify_write_yaml(yolov5_pt_path ,self.config.custom_yolov5, {'nc': data.nc})\n",
    "\n",
    "#             # 3. train, save the runs in history folder\n",
    "\n",
    "#                 # crt_time = 'runs_' + datetime.now().strftime('%d_%m_%Y_%H_%M_%S') + '/'\n",
    "#                 # runs_path = os.path.join(self.config.history, crt_time)\n",
    "#                 # print(runs_path)\n",
    "\n",
    "#                 # create_directories([runs_path])\n",
    "\n",
    "#                 # best_pt = os.path.join(self.config.yolov5_runs, 'train/yolov5s_results/weights/best.pt')\n",
    "\n",
    "# # ---------------------------------------------------------------------------------------------------------\n",
    "#                 # weights_directory = str(self.config.yolov5_root)\n",
    "\n",
    "#                 # # Ensure the directory exists\n",
    "#                 # os.makedirs(weights_directory, exist_ok=True)\n",
    "\n",
    "#                 # # URL of the pre-trained weights file\n",
    "#                 # weights_url = \"https://github.com/ultralytics/yolov5/releases/download/v5.0/yolov5s.pt\"\n",
    "\n",
    "#                 # # Command to download the weights using wget\n",
    "#                 # download_command = f'wget -O {os.path.join(weights_directory, \"yolov5s.pt\")} {weights_url}'\n",
    "\n",
    "#                 # # Run the download command using subprocess\n",
    "#                 # result = subprocess.run(download_command, shell=True, stdout=subprocess.PIPE, stderr=subprocess.PIPE, text=True)\n",
    "\n",
    "# # --------------------------------------------------------------------------------------------------------------------------------\n",
    "\n",
    "\n",
    "#                 crt_dir = os.getcwd()\n",
    "\n",
    "#                 command = f'python {self.config.train_path} --img {self.config.IMAGE_SIZE} --batch {self.config.BATCH_SIZE} --epochs {self.config.EPOCHS} --data {os.path.abspath(self.config.DATA)} --weights {self.config.WEIGHTS} --name {self.config.NAME} --cache'\n",
    "#                 result = subprocess.run(command, shell=True, stdout=subprocess.PIPE, stderr=subprocess.PIPE, text=True)\n",
    "#                 print(result)\n",
    "\n",
    "#             # -----------------------------------------------------------\n",
    "#                 command1 = f'cp {self.config.yolov5_runs} {runs_path}'\n",
    "#                 result1 = subprocess.run(command1, shell=True, stdout=subprocess.PIPE, stderr=subprocess.PIPE, text=True)\n",
    "#                 print(result1)\n",
    "\n",
    "#                 command2 = f'cp {best_pt} {self.config.root_dir}'\n",
    "#                 result2 = subprocess.run(command2, shell=True, stdout=subprocess.PIPE, stderr=subprocess.PIPE, text=True)\n",
    "#                 print(result2)\n",
    "\n",
    "#                 command3 = f'rm -rf {self.config.yolov5_runs}'\n",
    "#                 result3 = subprocess.run(command3, shell=True, stdout=subprocess.PIPE, stderr=subprocess.PIPE, text=True)\n",
    "#                 print(result3)\n",
    "\n",
    "\n",
    "#             # os.system(\"cp {self.config.yolov5_runs} {runs_path}\")\n",
    "#             # os.system(\"cp {best_pt} {self.config.root_dir}\")\n",
    "            \n",
    "#             # os.system(\"rm -rf {self.config.yolov5_runs}\")\n",
    "\n",
    "        \n",
    "#         except Exception as e:\n",
    "#             raise CustomException(e,sys)"
   ]
  },
  {
   "cell_type": "code",
   "execution_count": null,
   "metadata": {},
   "outputs": [],
   "source": []
  },
  {
   "cell_type": "markdown",
   "metadata": {},
   "source": [
    "## Pipeline"
   ]
  },
  {
   "cell_type": "code",
   "execution_count": 37,
   "metadata": {},
   "outputs": [
    {
     "name": "stdout",
     "output_type": "stream",
     "text": [
      "yolov5s.yaml yolov5\\models\\yolov5s.yaml\n",
      "{'nc': 13, 'depth_multiple': 0.33, 'width_multiple': 0.5, 'anchors': [[10, 13, 16, 30, 33, 23], [30, 61, 62, 45, 59, 119], [116, 90, 156, 198, 373, 326]], 'backbone': [[-1, 1, 'Conv', [64, 6, 2, 2]], [-1, 1, 'Conv', [128, 3, 2]], [-1, 3, 'C3', [128]], [-1, 1, 'Conv', [256, 3, 2]], [-1, 6, 'C3', [256]], [-1, 1, 'Conv', [512, 3, 2]], [-1, 9, 'C3', [512]], [-1, 1, 'Conv', [1024, 3, 2]], [-1, 3, 'C3', [1024]], [-1, 1, 'SPPF', [1024, 5]]], 'head': [[-1, 1, 'Conv', [512, 1, 1]], [-1, 1, 'nn.Upsample', ['None', 2, 'nearest']], [[-1, 6], 1, 'Concat', [1]], [-1, 3, 'C3', [512, False]], [-1, 1, 'Conv', [256, 1, 1]], [-1, 1, 'nn.Upsample', ['None', 2, 'nearest']], [[-1, 4], 1, 'Concat', [1]], [-1, 3, 'C3', [256, False]], [-1, 1, 'Conv', [256, 3, 2]], [[-1, 14], 1, 'Concat', [1]], [-1, 3, 'C3', [512, False]], [-1, 1, 'Conv', [512, 3, 2]], [[-1, 10], 1, 'Concat', [1]], [-1, 3, 'C3', [1024, False]], [[17, 20, 23], 1, 'Detect', ['nc', 'anchors']]]} 13\n",
      "CompletedProcess(args='python yolov5\\\\train.py --img 640 --batch 5 --epochs 2 --data d:\\\\PW_DS\\\\YOLO\\\\End-To-End-Waste-Detection-Project-using-Yolo-v5\\\\artifacts\\\\data_ingestion\\\\features\\\\data.yaml --weights yolov5s.pt --name yolov5s_results --cache', returncode=1, stdout='\\x1b[34m\\x1b[1mgithub: \\x1b[0mskipping check (not a git repository), for updates see https://github.com/ultralytics/yolov5\\n', stderr='\\x1b[34m\\x1b[1mtrain: \\x1b[0mweights=yolov5s.pt, cfg=, data=d:\\\\PW_DS\\\\YOLO\\\\End-To-End-Waste-Detection-Project-using-Yolo-v5\\\\artifacts\\\\data_ingestion\\\\features\\\\data.yaml, hyp=yolov5\\\\data\\\\hyps\\\\hyp.scratch-low.yaml, epochs=2, batch_size=5, imgsz=640, rect=False, resume=False, nosave=False, noval=False, noautoanchor=False, noplots=False, evolve=None, evolve_population=yolov5\\\\data\\\\hyps, resume_evolve=None, bucket=, cache=ram, image_weights=False, device=, multi_scale=False, single_cls=False, optimizer=SGD, sync_bn=False, workers=8, project=yolov5\\\\runs\\\\train, name=yolov5s_results, exist_ok=False, quad=False, cos_lr=False, label_smoothing=0.0, patience=100, freeze=[0], save_period=-1, seed=0, local_rank=-1, entity=None, upload_dataset=False, bbox_interval=-1, artifact_alias=latest, ndjson_console=False, ndjson_file=False\\nYOLOv5  2024-2-2 Python-3.8.0 torch-2.2.0+cpu CPU\\n\\n\\x1b[34m\\x1b[1mhyperparameters: \\x1b[0mlr0=0.01, lrf=0.01, momentum=0.937, weight_decay=0.0005, warmup_epochs=3.0, warmup_momentum=0.8, warmup_bias_lr=0.1, box=0.05, cls=0.5, cls_pw=1.0, obj=1.0, obj_pw=1.0, iou_t=0.2, anchor_t=4.0, fl_gamma=0.0, hsv_h=0.015, hsv_s=0.7, hsv_v=0.4, degrees=0.0, translate=0.1, scale=0.5, shear=0.0, perspective=0.0, flipud=0.0, fliplr=0.5, mosaic=1.0, mixup=0.0, copy_paste=0.0\\n\\x1b[34m\\x1b[1mComet: \\x1b[0mrun \\'pip install comet_ml\\' to automatically track and visualize YOLOv5  runs in Comet\\n\\x1b[34m\\x1b[1mTensorBoard: \\x1b[0mStart with \\'tensorboard --logdir yolov5\\\\runs\\\\train\\', view at http://localhost:6006/\\nOverriding model.yaml nc=80 with nc=13\\n\\n                 from  n    params  module                                  arguments                     \\n  0                -1  1      3520  models.common.Conv                      [3, 32, 6, 2, 2]              \\n  1                -1  1     18560  models.common.Conv                      [32, 64, 3, 2]                \\n  2                -1  1     18816  models.common.C3                        [64, 64, 1]                   \\n  3                -1  1     73984  models.common.Conv                      [64, 128, 3, 2]               \\n  4                -1  2    115712  models.common.C3                        [128, 128, 2]                 \\n  5                -1  1    295424  models.common.Conv                      [128, 256, 3, 2]              \\n  6                -1  3    625152  models.common.C3                        [256, 256, 3]                 \\n  7                -1  1   1180672  models.common.Conv                      [256, 512, 3, 2]              \\n  8                -1  1   1182720  models.common.C3                        [512, 512, 1]                 \\n  9                -1  1    656896  models.common.SPPF                      [512, 512, 5]                 \\n 10                -1  1    131584  models.common.Conv                      [512, 256, 1, 1]              \\n 11                -1  1         0  torch.nn.modules.upsampling.Upsample    [None, 2, \\'nearest\\']          \\n 12           [-1, 6]  1         0  models.common.Concat                    [1]                           \\n 13                -1  1    361984  models.common.C3                        [512, 256, 1, False]          \\n 14                -1  1     33024  models.common.Conv                      [256, 128, 1, 1]              \\n 15                -1  1         0  torch.nn.modules.upsampling.Upsample    [None, 2, \\'nearest\\']          \\n 16           [-1, 4]  1         0  models.common.Concat                    [1]                           \\n 17                -1  1     90880  models.common.C3                        [256, 128, 1, False]          \\n 18                -1  1    147712  models.common.Conv                      [128, 128, 3, 2]              \\n 19          [-1, 14]  1         0  models.common.Concat                    [1]                           \\n 20                -1  1    296448  models.common.C3                        [256, 256, 1, False]          \\n 21                -1  1    590336  models.common.Conv                      [256, 256, 3, 2]              \\n 22          [-1, 10]  1         0  models.common.Concat                    [1]                           \\n 23                -1  1   1182720  models.common.C3                        [512, 512, 1, False]          \\n 24      [17, 20, 23]  1     48546  models.yolo.Detect                      [13, [[10, 13, 16, 30, 33, 23], [30, 61, 62, 45, 59, 119], [116, 90, 156, 198, 373, 326]], [128, 256, 512]]\\nModel summary: 214 layers, 7054690 parameters, 7054690 gradients, 16.0 GFLOPs\\n\\nTransferred 343/349 items from yolov5s.pt\\n\\x1b[34m\\x1b[1moptimizer:\\x1b[0m SGD(lr=0.01) with parameter groups 57 weight(decay=0.0), 60 weight(decay=0.0005078125), 60 bias\\n\\n\\x1b[34m\\x1b[1mtrain: \\x1b[0mScanning D:\\\\PW_DS\\\\YOLO\\\\End-To-End-Waste-Detection-Project-using-Yolo-v5\\\\artifacts\\\\data_ingestion\\\\features\\\\train\\\\labels.cache... 919 images, 0 backgrounds, 0 corrupt: 100%|██████████| 919/919 [00:00<?, ?it/s]\\n\\x1b[34m\\x1b[1mtrain: \\x1b[0mScanning D:\\\\PW_DS\\\\YOLO\\\\End-To-End-Waste-Detection-Project-using-Yolo-v5\\\\artifacts\\\\data_ingestion\\\\features\\\\train\\\\labels.cache... 919 images, 0 backgrounds, 0 corrupt: 100%|██████████| 919/919 [00:00<?, ?it/s]\\n\\n  0%|          | 0/919 [00:00<?, ?it/s]\\n\\x1b[34m\\x1b[1mtrain: \\x1b[0mCaching images (0.0GB ram):   3%|▎         | 32/919 [00:00<00:03, 276.95it/s]\\n\\x1b[34m\\x1b[1mtrain: \\x1b[0mCaching images (0.1GB ram):   7%|▋         | 65/919 [00:00<00:02, 292.90it/s]\\n\\x1b[34m\\x1b[1mtrain: \\x1b[0mCaching images (0.1GB ram):  10%|█         | 95/919 [00:00<00:03, 269.59it/s]\\n\\x1b[34m\\x1b[1mtrain: \\x1b[0mCaching images (0.1GB ram):  13%|█▎        | 123/919 [00:00<00:03, 246.56it/s]\\n\\x1b[34m\\x1b[1mtrain: \\x1b[0mCaching images (0.1GB ram):  18%|█▊        | 162/919 [00:00<00:02, 288.36it/s]\\n\\x1b[34m\\x1b[1mtrain: \\x1b[0mCaching images (0.2GB ram):  23%|██▎       | 215/919 [00:00<00:01, 361.98it/s]\\n\\x1b[34m\\x1b[1mtrain: \\x1b[0mCaching images (0.2GB ram):  32%|███▏      | 290/919 [00:00<00:01, 477.32it/s]\\n\\x1b[34m\\x1b[1mtrain: \\x1b[0mCaching images (0.3GB ram):  39%|███▉      | 357/919 [00:00<00:01, 527.89it/s]\\n\\x1b[34m\\x1b[1mtrain: \\x1b[0mCaching images (0.4GB ram):  45%|████▍     | 411/919 [00:01<00:01, 418.24it/s]\\n\\x1b[34m\\x1b[1mtrain: \\x1b[0mCaching images (0.4GB ram):  50%|████▉     | 457/919 [00:01<00:01, 375.59it/s]\\n\\x1b[34m\\x1b[1mtrain: \\x1b[0mCaching images (0.4GB ram):  54%|█████▍    | 498/919 [00:01<00:01, 274.64it/s]\\n\\x1b[34m\\x1b[1mtrain: \\x1b[0mCaching images (0.5GB ram):  58%|█████▊    | 532/919 [00:01<00:01, 267.03it/s]\\n\\x1b[34m\\x1b[1mtrain: \\x1b[0mCaching images (0.5GB ram):  63%|██████▎   | 579/919 [00:01<00:01, 294.21it/s]\\n\\x1b[34m\\x1b[1mtrain: \\x1b[0mCaching images (0.6GB ram):  70%|██████▉   | 641/919 [00:01<00:00, 355.56it/s]\\n\\x1b[34m\\x1b[1mtrain: \\x1b[0mCaching images (0.6GB ram):  75%|███████▍  | 687/919 [00:01<00:00, 379.61it/s]\\n\\x1b[34m\\x1b[1mtrain: \\x1b[0mCaching images (0.6GB ram):  81%|████████  | 744/919 [00:02<00:00, 426.31it/s]\\n\\x1b[34m\\x1b[1mtrain: \\x1b[0mCaching images (0.7GB ram):  88%|████████▊ | 807/919 [00:02<00:00, 437.47it/s]\\n\\x1b[34m\\x1b[1mtrain: \\x1b[0mCaching images (0.7GB ram):  93%|█████████▎| 853/919 [00:02<00:00, 425.49it/s]\\n\\x1b[34m\\x1b[1mtrain: \\x1b[0mCaching images (0.8GB ram):  98%|█████████▊| 898/919 [00:02<00:00, 406.00it/s]\\n\\x1b[34m\\x1b[1mtrain: \\x1b[0mCaching images (0.8GB ram): 100%|██████████| 919/919 [00:02<00:00, 366.32it/s]\\nTraceback (most recent call last):\\nTraceback (most recent call last):\\n  File \"<string>\", line 1, in <module>\\n  File \"yolov5\\\\train.py\", line 836, in <module>\\n  File \"c:\\\\Users\\\\Maaz\\\\anaconda3\\\\envs\\\\_waste\\\\lib\\\\multiprocessing\\\\spawn.py\", line 116, in spawn_main\\n    exitcode = _main(fd, parent_sentinel)\\n  File \"c:\\\\Users\\\\Maaz\\\\anaconda3\\\\envs\\\\_waste\\\\lib\\\\multiprocessing\\\\spawn.py\", line 126, in _main\\n    self = reduction.pickle.load(from_parent)\\nEOFError: Ran out of input\\n    main(opt)\\n  File \"yolov5\\\\train.py\", line 616, in main\\n    train(opt.hyp, opt, device, callbacks)\\n  File \"yolov5\\\\train.py\", line 248, in train\\n    train_loader, dataset = create_dataloader(\\n  File \"d:\\\\PW_DS\\\\YOLO\\\\End-To-End-Waste-Detection-Project-using-Yolo-v5\\\\yolov5\\\\utils\\\\dataloaders.py\", line 200, in create_dataloader\\n    return loader(\\n  File \"d:\\\\PW_DS\\\\YOLO\\\\End-To-End-Waste-Detection-Project-using-Yolo-v5\\\\yolov5\\\\utils\\\\dataloaders.py\", line 223, in __init__\\n    self.iterator = super().__iter__()\\n  File \"c:\\\\Users\\\\Maaz\\\\anaconda3\\\\envs\\\\_waste\\\\lib\\\\site-packages\\\\torch\\\\utils\\\\data\\\\dataloader.py\", line 439, in __iter__\\n    return self._get_iterator()\\n  File \"c:\\\\Users\\\\Maaz\\\\anaconda3\\\\envs\\\\_waste\\\\lib\\\\site-packages\\\\torch\\\\utils\\\\data\\\\dataloader.py\", line 387, in _get_iterator\\n    return _MultiProcessingDataLoaderIter(self)\\n  File \"c:\\\\Users\\\\Maaz\\\\anaconda3\\\\envs\\\\_waste\\\\lib\\\\site-packages\\\\torch\\\\utils\\\\data\\\\dataloader.py\", line 1040, in __init__\\n    w.start()\\n  File \"c:\\\\Users\\\\Maaz\\\\anaconda3\\\\envs\\\\_waste\\\\lib\\\\multiprocessing\\\\process.py\", line 121, in start\\n    self._popen = self._Popen(self)\\n  File \"c:\\\\Users\\\\Maaz\\\\anaconda3\\\\envs\\\\_waste\\\\lib\\\\multiprocessing\\\\context.py\", line 224, in _Popen\\n    return _default_context.get_context().Process._Popen(process_obj)\\n  File \"c:\\\\Users\\\\Maaz\\\\anaconda3\\\\envs\\\\_waste\\\\lib\\\\multiprocessing\\\\context.py\", line 326, in _Popen\\n    return Popen(process_obj)\\n  File \"c:\\\\Users\\\\Maaz\\\\anaconda3\\\\envs\\\\_waste\\\\lib\\\\multiprocessing\\\\popen_spawn_win32.py\", line 93, in __init__\\n    reduction.dump(process_obj, to_child)\\n  File \"c:\\\\Users\\\\Maaz\\\\anaconda3\\\\envs\\\\_waste\\\\lib\\\\multiprocessing\\\\reduction.py\", line 60, in dump\\n    ForkingPickler(file, protocol).dump(obj)\\nMemoryError\\n')\n"
     ]
    }
   ],
   "source": [
    "try:\n",
    "    config = ConfigManager()\n",
    "    model_training = ModelTraining(config.get_model_training_config())\n",
    "    model_training.train()\n",
    "\n",
    "except Exception as e:\n",
    "    raise CustomException(e,sys)"
   ]
  },
  {
   "cell_type": "code",
   "execution_count": null,
   "metadata": {},
   "outputs": [],
   "source": []
  },
  {
   "cell_type": "code",
   "execution_count": null,
   "metadata": {},
   "outputs": [
    {
     "ename": "SyntaxError",
     "evalue": "invalid syntax (845190903.py, line 3)",
     "output_type": "error",
     "traceback": [
      "\u001b[1;36m  Cell \u001b[1;32mIn[14], line 3\u001b[1;36m\u001b[0m\n\u001b[1;33m    chdir =\u001b[0m\n\u001b[1;37m            ^\u001b[0m\n\u001b[1;31mSyntaxError\u001b[0m\u001b[1;31m:\u001b[0m invalid syntax\n"
     ]
    }
   ],
   "source": [
    "crt_dir = os.getcwd()\n",
    "\n",
    "chdir = \n",
    "\n",
    "\n",
    "command = f'cd {self.config.yolov5_root} && python train.py --img {self.config.IMAGE_SIZE} --batch {self.config.BATCH_SIZE} --epochs {self.config.EPOCHS} --data {os.path.join(crt_dir, self.config.DATA)} --weights {self.config.WEIGHTS} --name {self.config.NAME} --cache'"
   ]
  },
  {
   "cell_type": "code",
   "execution_count": null,
   "metadata": {},
   "outputs": [],
   "source": []
  },
  {
   "cell_type": "code",
   "execution_count": null,
   "metadata": {},
   "outputs": [],
   "source": []
  },
  {
   "cell_type": "code",
   "execution_count": null,
   "metadata": {},
   "outputs": [],
   "source": []
  },
  {
   "cell_type": "code",
   "execution_count": null,
   "metadata": {},
   "outputs": [],
   "source": []
  },
  {
   "cell_type": "code",
   "execution_count": null,
   "metadata": {},
   "outputs": [],
   "source": []
  }
 ],
 "metadata": {
  "kernelspec": {
   "display_name": "_waste",
   "language": "python",
   "name": "python3"
  },
  "language_info": {
   "codemirror_mode": {
    "name": "ipython",
    "version": 3
   },
   "file_extension": ".py",
   "mimetype": "text/x-python",
   "name": "python",
   "nbconvert_exporter": "python",
   "pygments_lexer": "ipython3",
   "version": "3.8.0"
  }
 },
 "nbformat": 4,
 "nbformat_minor": 2
}
