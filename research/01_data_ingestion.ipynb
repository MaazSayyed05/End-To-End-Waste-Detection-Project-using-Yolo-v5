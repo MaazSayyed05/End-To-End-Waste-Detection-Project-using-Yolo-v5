{
 "cells": [
  {
   "cell_type": "code",
   "execution_count": 1,
   "metadata": {},
   "outputs": [],
   "source": [
    "import os"
   ]
  },
  {
   "cell_type": "code",
   "execution_count": 2,
   "metadata": {},
   "outputs": [
    {
     "data": {
      "text/plain": [
       "'d:\\\\PW_DS\\\\YOLO\\\\End-To-End-Waste-Detection-Project-using-Yolo-v5\\\\research'"
      ]
     },
     "execution_count": 2,
     "metadata": {},
     "output_type": "execute_result"
    }
   ],
   "source": [
    "pwd"
   ]
  },
  {
   "cell_type": "code",
   "execution_count": 3,
   "metadata": {},
   "outputs": [],
   "source": [
    "os.chdir('..')"
   ]
  },
  {
   "cell_type": "code",
   "execution_count": 4,
   "metadata": {},
   "outputs": [
    {
     "data": {
      "text/plain": [
       "'d:\\\\PW_DS\\\\YOLO\\\\End-To-End-Waste-Detection-Project-using-Yolo-v5'"
      ]
     },
     "execution_count": 4,
     "metadata": {},
     "output_type": "execute_result"
    }
   ],
   "source": [
    "pwd"
   ]
  },
  {
   "cell_type": "code",
   "execution_count": null,
   "metadata": {},
   "outputs": [],
   "source": []
  },
  {
   "cell_type": "markdown",
   "metadata": {},
   "source": [
    "## Entity"
   ]
  },
  {
   "cell_type": "code",
   "execution_count": 5,
   "metadata": {},
   "outputs": [],
   "source": [
    "from dataclasses import dataclass\n",
    "from pathlib import Path"
   ]
  },
  {
   "cell_type": "code",
   "execution_count": 20,
   "metadata": {},
   "outputs": [],
   "source": [
    "@dataclass(frozen=True)\n",
    "class DataIngestionConfig:\n",
    "    root_dir: Path\n",
    "    feature_path: Path\n",
    "    data_URL: Path\n",
    "    data_path: Path\n"
   ]
  },
  {
   "cell_type": "code",
   "execution_count": null,
   "metadata": {},
   "outputs": [],
   "source": []
  },
  {
   "cell_type": "markdown",
   "metadata": {},
   "source": [
    "## Config Manager"
   ]
  },
  {
   "cell_type": "code",
   "execution_count": 19,
   "metadata": {},
   "outputs": [],
   "source": [
    "from waste_detection.utils.common import  read_yaml, create_directories\n",
    "from waste_detection.constants import *"
   ]
  },
  {
   "cell_type": "code",
   "execution_count": 32,
   "metadata": {},
   "outputs": [],
   "source": [
    "class ConfigManager:\n",
    "    def __init__(\n",
    "        self,\n",
    "        config_file_path = CONFIG_FILE_PATH,\n",
    "        params_file_path = PARAMS_FILE_PATH):\n",
    "\n",
    "        self.config = read_yaml(config_file_path)\n",
    "        self.params = read_yaml(params_file_path)\n",
    "\n",
    "        create_directories([self.config.artifacts_root])\n",
    "    \n",
    "    def get_data_ingestion_config(self) -> DataIngestionConfig:\n",
    "        config = self.config.data_ingestion\n",
    "\n",
    "        create_directories([config.root_dir])\n",
    "        data_ingestion_config = DataIngestionConfig(\n",
    "            root_dir = config.root_dir,\n",
    "            feature_path = config.feature_path,\n",
    "            data_URL = config.data_URL,\n",
    "            data_path = config.data_path\n",
    "        )\n",
    "\n",
    "        return data_ingestion_config"
   ]
  },
  {
   "cell_type": "code",
   "execution_count": null,
   "metadata": {},
   "outputs": [],
   "source": []
  },
  {
   "cell_type": "markdown",
   "metadata": {},
   "source": [
    "## Components"
   ]
  },
  {
   "cell_type": "code",
   "execution_count": 23,
   "metadata": {},
   "outputs": [],
   "source": [
    "import os\n",
    "import sys\n",
    "import zipfile\n",
    "import gdown\n",
    "\n",
    "from waste_detection.logger import  logging\n",
    "from waste_detection.exception import CustomException"
   ]
  },
  {
   "cell_type": "code",
   "execution_count": null,
   "metadata": {},
   "outputs": [],
   "source": []
  },
  {
   "cell_type": "code",
   "execution_count": 38,
   "metadata": {},
   "outputs": [],
   "source": [
    "class DataIngestion:\n",
    "    def __init__(\n",
    "        self,\n",
    "        config: DataIngestionConfig):\n",
    "        self.config = config\n",
    "    \n",
    "    def download_data_from_github(self):\n",
    "            if not os.path.exists(self.config.data_file):\n",
    "                filename, headers = request.urlretrieve(\n",
    "                    url = self.config.data_url,\n",
    "                    filename = self.config.data_file\n",
    "                )\n",
    "\n",
    "                logger.info(f\"{filename} download! with following info: \\n {headers}\")\n",
    "\n",
    "            else:\n",
    "                logger.info(f\"File already exists.\")\n",
    "\n",
    "\n",
    "    \n",
    "    def download_data_from_drive(self):\n",
    "        '''\n",
    "        Fetch data from the url\n",
    "        '''\n",
    "\n",
    "        try: \n",
    "            dataset_url = self.config.data_URL\n",
    "            zip_download_dir = self.config.root_dir\n",
    "            os.makedirs(zip_download_dir, exist_ok=True)\n",
    "            data_file_name = \"data.zip\"\n",
    "            zip_file_path = os.path.join(zip_download_dir, data_file_name)\n",
    "            logging.info(f\"Downloading data from {dataset_url} into file {zip_file_path}\")\n",
    "\n",
    "\n",
    "            file_id = dataset_url.split(\"/\")[-2]\n",
    "            prefix = 'https://drive.google.com/uc?/export=download&id='\n",
    "            gdown.download(prefix+file_id,zip_file_path)\n",
    "\n",
    "            logging.info(f\"Downloaded data from {dataset_url} into file {zip_file_path}\") \n",
    "\n",
    "        except Exception as e:\n",
    "            raise CustomException(e, sys)\n",
    "\n",
    "\n",
    "    \n",
    "\n",
    "    def extract_zip_file(self):\n",
    "            \"\"\"\n",
    "            zip_file_pah: str\n",
    "            Extarcts the zip file into the  data directory \n",
    "            Function return None\n",
    "            \"\"\"\n",
    "            unzip_path = self.config.feature_path\n",
    "            os.makedirs(unzip_path,exist_ok=True)\n",
    "            # logger.info(f\"{self.config.local_data_file}\")\n",
    "            with zipfile.ZipFile(self.config.data_path, 'r') as zip_ref:\n",
    "                zip_ref.extractall(unzip_path)\n",
    "\n",
    "            logging.info(f\"{self.config.data_path} unzipped to {unzip_path}\")  "
   ]
  },
  {
   "cell_type": "code",
   "execution_count": null,
   "metadata": {},
   "outputs": [],
   "source": []
  },
  {
   "cell_type": "markdown",
   "metadata": {},
   "source": [
    "## Pipeline"
   ]
  },
  {
   "cell_type": "code",
   "execution_count": 39,
   "metadata": {},
   "outputs": [
    {
     "name": "stderr",
     "output_type": "stream",
     "text": [
      "Downloading...\n",
      "From (original): https://drive.google.com/uc?/export=download&id=1ECfl3dtYyfivY8kYPq7RHUBTjC-2vf61\n",
      "From (redirected): https://drive.google.com/uc?/export=download&id=1ECfl3dtYyfivY8kYPq7RHUBTjC-2vf61&confirm=t&uuid=636a2a92-695d-4600-b90f-bf14291acbd7\n",
      "To: d:\\PW_DS\\YOLO\\End-To-End-Waste-Detection-Project-using-Yolo-v5\\artifacts\\data_ingestion\\data.zip\n",
      "100%|██████████| 40.1M/40.1M [00:07<00:00, 5.39MB/s]\n"
     ]
    }
   ],
   "source": [
    "try:\n",
    "    config = ConfigManager()\n",
    "    data_ingestion = DataIngestion(config.get_data_ingestion_config())\n",
    "    # data_ingestion.download_data_from_github()\n",
    "    data_ingestion.download_data_from_drive()\n",
    "    data_ingestion.extract_zip_file()\n",
    "except Exception as e:\n",
    "    raise CustomException(e, sys)"
   ]
  },
  {
   "cell_type": "code",
   "execution_count": null,
   "metadata": {},
   "outputs": [],
   "source": []
  },
  {
   "cell_type": "code",
   "execution_count": null,
   "metadata": {},
   "outputs": [],
   "source": []
  },
  {
   "cell_type": "code",
   "execution_count": null,
   "metadata": {},
   "outputs": [],
   "source": []
  },
  {
   "cell_type": "code",
   "execution_count": null,
   "metadata": {},
   "outputs": [],
   "source": []
  }
 ],
 "metadata": {
  "kernelspec": {
   "display_name": "Python 3",
   "language": "python",
   "name": "python3"
  },
  "language_info": {
   "codemirror_mode": {
    "name": "ipython",
    "version": 3
   },
   "file_extension": ".py",
   "mimetype": "text/x-python",
   "name": "python",
   "nbconvert_exporter": "python",
   "pygments_lexer": "ipython3",
   "version": "3.8.0"
  }
 },
 "nbformat": 4,
 "nbformat_minor": 2
}
